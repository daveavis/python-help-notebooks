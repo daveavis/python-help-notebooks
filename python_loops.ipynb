{
 "cells": [
  {
   "cell_type": "markdown",
   "metadata": {},
   "source": [
    "# Python Loops\n",
    "\n",
    "There are many times you will want a program to run a section of code repeatedly.  There are two types of loops in Python that allow this to happen."
   ]
  },
  {
   "cell_type": "markdown",
   "metadata": {},
   "source": [
    "## For Loops\n",
    "\n",
    "A for loop is used when you know how many times you want a loop to run.  A typical for loop looks like:\n",
    "\n",
    "```\n",
    "for x in range(5):\n",
    "    do stuff\n",
    "```\n",
    "\n",
    "In this loop, `x` is a variable that will hold the values returned from `range`. When using `range(5)` the variable `x` will hold the values 0, 1, 2, 3, and 4 in turn.  Each time through the loop it will hold the next value in the list.  Note that `range` does not include the value in the parentheses.  `range(5)` returns the range of numbers from 0 through 5-1."
   ]
  },
  {
   "cell_type": "code",
   "execution_count": 1,
   "metadata": {},
   "outputs": [
    {
     "name": "stdout",
     "output_type": "stream",
     "text": [
      "Looping\n",
      "Looping\n",
      "Looping\n"
     ]
    }
   ],
   "source": [
    "# In this example we are ignoring the values that x holds\n",
    "# and are just using range(3) to make the loop happen 3 times.\n",
    "for x in range(3):\n",
    "    print(\"Looping\")"
   ]
  },
  {
   "cell_type": "code",
   "execution_count": 2,
   "metadata": {},
   "outputs": [
    {
     "name": "stdout",
     "output_type": "stream",
     "text": [
      "0\n",
      "1\n",
      "2\n"
     ]
    }
   ],
   "source": [
    "# In this example we are using the values that x holds.\n",
    "for x in range(3):  # range(3) is the same as range(0,3). The 0 is implied if only one number is entered.\n",
    "    print(x)"
   ]
  },
  {
   "cell_type": "code",
   "execution_count": 1,
   "metadata": {},
   "outputs": [
    {
     "name": "stdout",
     "output_type": "stream",
     "text": [
      "10\n",
      "11\n",
      "12\n",
      "13\n",
      "14\n"
     ]
    }
   ],
   "source": [
    "# The range of values does not have to start at 0.\n",
    "# range(x, y) starts at x and goes until y (does not include y)\n",
    "for x in range(10, 15):\n",
    "    print(x)"
   ]
  },
  {
   "cell_type": "code",
   "execution_count": 4,
   "metadata": {},
   "outputs": [
    {
     "name": "stdout",
     "output_type": "stream",
     "text": [
      "0\n",
      "2\n",
      "4\n",
      "6\n",
      "8\n",
      "10\n"
     ]
    }
   ],
   "source": [
    "# We can do other operations on the loop value inside the loop.\n",
    "# Here we print out all of the even numbers from 0 through 10.\n",
    "for x in range(10+1):  # the \"10+1\" is so that x becomes 10 at some point.\n",
    "    if( x % 2 == 0 ):  # recall that x%2==0 means that x is evenly divisible by 2\n",
    "        print( x )"
   ]
  },
  {
   "cell_type": "markdown",
   "metadata": {},
   "source": [
    "## While Loops\n",
    "\n",
    "A while loop is used when you don't know how many times the loop will run, but you know what condition will either keep it running or stop it running.\n",
    "\n",
    "```\n",
    "while( boolean_condition ):\n",
    "    do_stuff\n",
    "    do_more_stuff\n",
    "```\n",
    "\n",
    "As long as the boolean_condition is `True` the loop will continue to execute.  The condition is checked at the beginning of each loop, not continuously throughout the loop.  It is important to make sure you modify the condition being checked so that the loop will end eventually.  Otherwise you are left stuck in an \"infinite loop\" that will never end."
   ]
  },
  {
   "cell_type": "code",
   "execution_count": 2,
   "metadata": {
    "scrolled": false
   },
   "outputs": [
    {
     "name": "stdout",
     "output_type": "stream",
     "text": [
      "Enter a number (-1 to quit): 5\n",
      "Your number is 5\n",
      "Enter a number (-1 to quit): 6\n",
      "Your number is 6\n",
      "Enter a number (-1 to quit): -1\n",
      "Your number is -1\n",
      "Exiting...\n"
     ]
    }
   ],
   "source": [
    "# a common use of a while loop is to allow the user to \n",
    "# repeatedly input values that are then operated on.\n",
    "num = 0\n",
    "while(num != -1):\n",
    "    num = int( input( \"Enter a number (-1 to quit): \" ) )\n",
    "    print(\"Your number is\", num)\n",
    "\n",
    "print(\"Exiting...\")"
   ]
  },
  {
   "cell_type": "code",
   "execution_count": 5,
   "metadata": {},
   "outputs": [
    {
     "name": "stdout",
     "output_type": "stream",
     "text": [
      "0 1 2 3 4 "
     ]
    }
   ],
   "source": [
    "# This will continue to print a value until a certain number is reached.\n",
    "x = 0\n",
    "while x < 5:\n",
    "    print(x, end=\" \")\n",
    "    x += 1    # same as x=x+1\n",
    "              # make sure you increment the variable you are checking, otherwise the loop will never end!"
   ]
  }
 ],
 "metadata": {
  "kernelspec": {
   "display_name": "Python 3",
   "language": "python",
   "name": "python3"
  },
  "language_info": {
   "codemirror_mode": {
    "name": "ipython",
    "version": 3
   },
   "file_extension": ".py",
   "mimetype": "text/x-python",
   "name": "python",
   "nbconvert_exporter": "python",
   "pygments_lexer": "ipython3",
   "version": "3.7.0"
  }
 },
 "nbformat": 4,
 "nbformat_minor": 2
}
