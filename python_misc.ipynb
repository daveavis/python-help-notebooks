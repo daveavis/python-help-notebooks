{
 "cells": [
  {
   "cell_type": "markdown",
   "metadata": {},
   "source": [
    "# Miscellaneous Python\n",
    "\n",
    "This is a collection of useful Python commands and information that doesn't really fit anywhere else."
   ]
  },
  {
   "cell_type": "markdown",
   "metadata": {},
   "source": [
    "## Random Numbers\n",
    "\n",
    "Adding randomness to a program can make it more interesting.  Games would be boring if the computer did the same thing every time.  There are a variety of ways to get random numbers in Python, here are the ones you will use in class.\n",
    "\n",
    "Before you can get a random number you have to tell Python that you want it to load the library that makes random numbers.  This is included with a base Python installation, but Python does not load everything every time it runs.  This would slow Python down and increase the memory requirementes.  Instead, Python allows the programmer to tell it what they need beyond the basics.\n",
    "\n",
    "For random numbers we need to import the `random` library of methods.  To do that you must put `import random` at the top of your file before any other code (except other imports, of course).\n",
    "\n",
    "Now that we have access to the `random` methods we can use them as shown below."
   ]
  },
  {
   "cell_type": "code",
   "execution_count": 1,
   "metadata": {},
   "outputs": [
    {
     "name": "stdout",
     "output_type": "stream",
     "text": [
      "My random integer is 49\n",
      "\n",
      "3\n",
      "8\n",
      "1\n",
      "6\n",
      "6\n"
     ]
    }
   ],
   "source": [
    "import random\n",
    "\n",
    "# to get a random integer from x to y (but not including y, just like the range() command)\n",
    "num = random.randrange(1,100)      # random number from 1 until 100 (not including 100)\n",
    "print( \"My random integer is\", num )\n",
    "\n",
    "print()  # blank line\n",
    "\n",
    "# You can put it in a loop to get multiple random numbers.\n",
    "for x in range(5):   # repeat 5 times\n",
    "    num = random.randrange(1,10)   # random number from 1 until 10 (not including 10)\n",
    "    print(num)"
   ]
  },
  {
   "cell_type": "markdown",
   "metadata": {},
   "source": [
    "## print() options\n",
    "\n",
    "The standard `print` statement always includes a space between the multiple items being printed and always ends with a newline character (`\\n`).  You can change that behavior by adding the following at the end of the `print` statement you want to modify.\n",
    "\n",
    "`sep=\"\"` - \"sep\" is short for \"separator\".  Anything you put inside the quotes will be put between each item being printed.  The default is `sep=\" \"`.\n",
    "\n",
    "`end=\"\"` - \"end\" is short for \"ending\".  Anything you put inside the quotes will be printed at the end of the print statement.  The default is `end=\"\\n\"`.\n",
    "\n",
    "You can use both `sep` and `end` in the same print statement."
   ]
  },
  {
   "cell_type": "code",
   "execution_count": 5,
   "metadata": {},
   "outputs": [
    {
     "name": "stdout",
     "output_type": "stream",
     "text": [
      "Default print statement\n",
      "behavior\n",
      "\n",
      "something***different***here\n",
      "\n",
      "sameline\n",
      "\n",
      "01234\n",
      "\n",
      "We're_number_0!!!\n",
      "We're_number_1!!!\n",
      "We're_number_2!!!\n",
      "We're_number_3!!!\n",
      "We're_number_4!!!\n"
     ]
    }
   ],
   "source": [
    "print(\"Default\", \"print\", \"statement\")    # by default a space is printed between each item\n",
    "print(\"behavior\")                         # and a newline (\\n) is printed at the end of each print statement\n",
    "print()                                   # blank line\n",
    "\n",
    "print(\"something\", \"different\", \"here\", sep=\"***\")   # \"***\" is printed between each item instead of a space\n",
    "print()                                              # blank line\n",
    "\n",
    "print(\"same\", end=\"\")     # don't go to a new line after printing.\n",
    "print(\"line\")\n",
    "print()                   # blank line\n",
    "\n",
    "for x in range(5):\n",
    "    print(x, end=\"\")      # print each number on the same line\n",
    "print()                   # go to a new line after the loop ends\n",
    "print()                   # blank line\n",
    "\n",
    "for x in range(5):\n",
    "    print(\"We're\", \"number\", x, sep=\"_\", end=\"!!!\\n\")  # custom separater and custom ending"
   ]
  }
 ],
 "metadata": {
  "kernelspec": {
   "display_name": "Python 3",
   "language": "python",
   "name": "python3"
  },
  "language_info": {
   "codemirror_mode": {
    "name": "ipython",
    "version": 3
   },
   "file_extension": ".py",
   "mimetype": "text/x-python",
   "name": "python",
   "nbconvert_exporter": "python",
   "pygments_lexer": "ipython3",
   "version": "3.7.0"
  }
 },
 "nbformat": 4,
 "nbformat_minor": 2
}
