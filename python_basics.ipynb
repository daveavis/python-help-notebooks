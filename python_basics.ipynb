{
 "cells": [
  {
   "cell_type": "markdown",
   "metadata": {},
   "source": [
    "# Python Basics"
   ]
  },
  {
   "cell_type": "markdown",
   "metadata": {},
   "source": [
    "## Reading This Page\n",
    "This page incorporates text information, python code, and the output of the python code.\n",
    "\n",
    "This section is the text information, the next section is the python code, and the section following the python code is the output of the python code."
   ]
  },
  {
   "cell_type": "code",
   "execution_count": 1,
   "metadata": {},
   "outputs": [
    {
     "name": "stdout",
     "output_type": "stream",
     "text": [
      "This is the output of the python code.\n"
     ]
    }
   ],
   "source": [
    "# This is the python code section\n",
    "print( \"This is the output of the python code.\" )"
   ]
  },
  {
   "cell_type": "markdown",
   "metadata": {},
   "source": [
    "## Printing\n",
    "The most common way to output information to the user is through the `print` command.  Each `print` command will output a single line of text.\n",
    "\n",
    "To print text you specify, put the text between quotation marks.\n",
    "`print(\"This is some text.\")`\n",
    "\n",
    "You can print multiple things on one line if you separate them with commas.\n",
    "`print(\"Item 1 is:\", \"Printing in Python\")`"
   ]
  },
  {
   "cell_type": "code",
   "execution_count": 2,
   "metadata": {
    "collapsed": false
   },
   "outputs": [
    {
     "name": "stdout",
     "output_type": "stream",
     "text": [
      "This is some text.\n",
      "\n",
      "Item 1 is: Printing in Python\n"
     ]
    }
   ],
   "source": [
    "print(\"This is some text.\")\n",
    "print()                                        # print a blank line\n",
    "print(\"Item 1 is:\", \"Printing in Python\")"
   ]
  },
  {
   "cell_type": "markdown",
   "metadata": {},
   "source": [
    "## Escape Characters\n",
    "There are some special characters that have special ways of printing them out in a print statement.\n",
    "\n",
    "|Escape Character|Result|\n",
    "|:---:|:---|\n",
    "|\\t|tab (5 spaces)|\n",
    "|\\n|newline (enter key)|\n",
    "|\\\"|\"|\n",
    "|\\'|'|\n",
    "|\\\\|\\|"
   ]
  },
  {
   "cell_type": "code",
   "execution_count": 3,
   "metadata": {},
   "outputs": [
    {
     "name": "stdout",
     "output_type": "stream",
     "text": [
      "tab\ttab\ttab.\n",
      "This is line 1.\n",
      "This is line 2.\n",
      "\"This is a quotation.\"\n",
      "'A quotation using single quotes.'\n",
      "Printing a \\.\n"
     ]
    }
   ],
   "source": [
    "print(\"tab\\ttab\\ttab.\")\n",
    "print(\"This is line 1.\\nThis is line 2.\")\n",
    "print(\"\\\"This is a quotation.\\\"\")\n",
    "print(\"\\'A quotation using single quotes.\\'\")\n",
    "print(\"Printing a \\\\.\")"
   ]
  },
  {
   "cell_type": "markdown",
   "metadata": {},
   "source": [
    "## Comments\n",
    "You can put comments in a python program that will be ignored by python.  These are useful for adding notes about what the program or a particular line is doing.  You can also use them to temporarilly turn off pieces of code that you don't want to delete.\n",
    "\n",
    "There are two types of comments: single line comments and block comments.\n",
    "\n",
    "Single line comments start with the `#` symbol and continue until the end of the line.  Everything from the `#` through the end of the line is ignored by python; you can put anything you want in the comment.\n",
    "\n",
    "Block quotes start with a line containing only `\"\"\"` and continues until another line containing only `\"\"\"`.  Everything between those two lines is ignored by python."
   ]
  },
  {
   "cell_type": "code",
   "execution_count": 4,
   "metadata": {},
   "outputs": [
    {
     "data": {
      "text/plain": [
       "'\\nThis is a block comment.\\nAll of this is ignored by python.\\n'"
      ]
     },
     "execution_count": 4,
     "metadata": {},
     "output_type": "execute_result"
    }
   ],
   "source": [
    "# This is a single line comment.\n",
    "num = 5  # This is also a single line comment\n",
    "\n",
    "\"\"\"\n",
    "This is a block comment.\n",
    "All of this is ignored by python.\n",
    "\"\"\""
   ]
  },
  {
   "cell_type": "markdown",
   "metadata": {},
   "source": [
    "## Variables\n",
    "Variables are used to store values.  Variables should start with a lower case letter, cannot be a reserved word (like int, or float), cannot have spaces, can have numbers, but cannot start with a number.  Variable names should be descriptive enough \n",
    "\n",
    "**Good Variable Names**  \n",
    "`name`  \n",
    "`date`  \n",
    "`first_name`  \n",
    "`student3`  \n",
    "\n",
    "**Bad Variable Names**  \n",
    "`1num`  \n",
    "`first name`  \n",
    "`int`  \n",
    "`float`  \n",
    "\n",
    "**Acceptable Variable Names** - these are valid Python, but are not the \"python way\".  \n",
    "`Name`  \n",
    "`firstName`  \n",
    "`FirstName`  \n",
    "\n",
    "## Data Types\n",
    "Variables can hold a number of data types.  These are the most common ones you will see.\n",
    "\n",
    "|Data Type|What It Holds|\n",
    "|:---: | :--- |\n",
    "|`int`|Integers. These are positive or negative whole numbers (no decimals).|\n",
    "|`float`|Floating point numbers. These are numbers that have a decimal.|\n",
    "|`str`|String. This is text (a string of characters).|\n"
   ]
  },
  {
   "cell_type": "code",
   "execution_count": 5,
   "metadata": {},
   "outputs": [
    {
     "name": "stdout",
     "output_type": "stream",
     "text": [
      "5\n",
      "integer_var = 5\n",
      "5.22\n",
      "float_var = 5.22\n",
      "\"This is some text.\"\n",
      "string_var = \"This is some text.\"\n"
     ]
    }
   ],
   "source": [
    "integer_var = 5                         # store an integer value\n",
    "print( integer_var )                    # print the contents of the variable\n",
    "print( \"integer_var =\", integer_var )   # print a better message\n",
    "\n",
    "float_var = 5.22                        # store an integer value\n",
    "print( float_var )                      # print the contents of the variable\n",
    "print( \"float_var =\", float_var)        # print a better message\n",
    "\n",
    "string_var = \"\\\"This is some text.\\\"\"   # store an integer value\n",
    "print( string_var )                     # print the contents of the variable\n",
    "print( \"string_var =\", string_var )     # print a better message"
   ]
  },
  {
   "cell_type": "markdown",
   "metadata": {},
   "source": [
    "## Math Operators\n",
    "The following are the common math operators you will use.\n",
    "\n",
    "|Operator|Effect|\n",
    "|:---:|:---|\n",
    "|+|Addition|\n",
    "|-|Subtraction|\n",
    "|\\*|Multiplication|\n",
    "|/|Division|\n",
    "|//|Floor division (also integer division). Does division and drops the decimal.|\n",
    "|%|Modulus. Does division and returns the remainder.|\n",
    "|\\*\\*|Exponential. Example: 5 ** 2 is 5 to the power of 2."
   ]
  },
  {
   "cell_type": "code",
   "execution_count": 6,
   "metadata": {
    "scrolled": true
   },
   "outputs": [
    {
     "name": "stdout",
     "output_type": "stream",
     "text": [
      "5 + 2 = 7\n",
      "5 - 2 = 3\n",
      "5 * 2 = 10\n",
      "5 / 2 = 2.5\n",
      "5 // 2 = 2\n",
      "5 % 2 = 1\n",
      "5 ** 2 = 25\n"
     ]
    }
   ],
   "source": [
    "print( \"5 + 2 =\", 5 + 2 )   # addition\n",
    "print( \"5 - 2 =\", 5 - 2 )   # subtraction\n",
    "print( \"5 * 2 =\", 5 * 2 )   # multiplication\n",
    "print( \"5 / 2 =\", 5 / 2 )   # division\n",
    "print( \"5 // 2 =\", 5 // 2 ) # floor division\n",
    "print( \"5 % 2 =\", 5 % 2 )   # modulus (or mod)\n",
    "print( \"5 ** 2 =\", 5 ** 2 ) # exponential"
   ]
  },
  {
   "cell_type": "markdown",
   "metadata": {},
   "source": [
    "## Extra Practice With Modulus (%)\n",
    "\n",
    "Modulus is often the mathematical operator that gives students the most trouble, though it is quite useful.  All modulus does is return the remainder after division happens.  Think way back to when you were first learning long division.  If you were asked to divide 5 by 2 you would not have said 2.5 like you would now.  Back then you would have reported your answer as a whole number \"2\" and a remainder \"1\".  Modulus (%) ignores the whole number portion of the answer and gives you the remainder.  One thing this is useful for is to find if one number divides into another number evenly.  Some examples are below:"
   ]
  },
  {
   "cell_type": "code",
   "execution_count": 7,
   "metadata": {},
   "outputs": [
    {
     "name": "stdout",
     "output_type": "stream",
     "text": [
      "5 % 2 = 1\n",
      "4 % 2 = 0\n",
      "30 % 10 = 0\n",
      "15 % 10 = 5\n",
      "6 % 2 = 0\n",
      "7 % 2 = 1\n"
     ]
    }
   ],
   "source": [
    "print( \"5 % 2 =\", 5 % 2 )     # 5/2 == 2 with a remainder of 1, so 5 % 2 == 1\n",
    "print( \"4 % 2 =\", 4 % 2 )     # 4/2 == 2 with a remainder of 0. 2 goes into 4 evenly.\n",
    "print( \"30 % 10 =\", 30 % 10 ) # 30/10 == 3 with a remainder of 0. 10 goes into 30 evenly.\n",
    "print( \"15 % 10 =\", 15 % 10 ) # 15/10 == 1 with a remainder of 5, so 15 % 10 == 5\n",
    "\n",
    "# How could we find if a number is even or odd?\n",
    "# Test to see if it divides evenly by 2.\n",
    "print( \"6 % 2 =\", 6 % 2 )     # remainder is zero so it is an even number\n",
    "print( \"7 % 2 =\", 7 % 2 )     # remainder is not zero so it is an odd number"
   ]
  },
  {
   "cell_type": "markdown",
   "metadata": {},
   "source": [
    "## Shortcut Operators\n",
    "Shortcut operators are just what they sound like: they are a shortcut.  They are an optional way of shortening common operations.\n",
    "\n",
    "|Operator|Effect|\n",
    "|:---:|:---|\n",
    "|`num += 5`|`num = num + 5`|\n",
    "|`num -= 5`|`num = num - 5`|\n",
    "|`num *= 5`|`num = num * 5`|\n",
    "|`num /= 5`|`num = num / 5`|"
   ]
  },
  {
   "cell_type": "code",
   "execution_count": 8,
   "metadata": {},
   "outputs": [
    {
     "name": "stdout",
     "output_type": "stream",
     "text": [
      "10\n",
      "15\n",
      "10\n",
      "50\n",
      "10.0\n"
     ]
    }
   ],
   "source": [
    "num = 10\n",
    "print( num )\n",
    "num += 5\n",
    "print( num )\n",
    "num -= 5\n",
    "print( num )\n",
    "num *= 5\n",
    "print( num )\n",
    "num /= 5\n",
    "print( num )"
   ]
  },
  {
   "cell_type": "markdown",
   "metadata": {},
   "source": [
    "## User Input\n",
    "`input` accepts user input and stores it as a string.  The string you send to `input` will be what python prints to prompt the user for input, then it will wait until the user enters some input. **Important: user input is always stored as a string.**\n"
   ]
  },
  {
   "cell_type": "code",
   "execution_count": 1,
   "metadata": {},
   "outputs": [
    {
     "name": "stdout",
     "output_type": "stream",
     "text": [
      "What is your name? Mr. Avis\n",
      "\n",
      "What is your name? Mr. Avis\n",
      "Mr. Avis\n",
      "Hello, Mr. Avis\n"
     ]
    }
   ],
   "source": [
    "input(\"What is your name? \")         # gets input from the user but doesn't store it. \n",
    "                                     # not useful.\n",
    "\n",
    "print()                              # print a blank line\n",
    "\n",
    "name = input(\"What is your name? \")  # stores the user input in the variable \"name\"\n",
    "print( name )                        # print what the user entered.\n",
    "print( \"Hello,\", name )              # print a nicer message"
   ]
  },
  {
   "cell_type": "markdown",
   "metadata": {},
   "source": [
    "You can convert the strings that `input` gives you by telling python to treat the string as a different data type (like `int` or `float`).  If python cannot convert the string to the other data type, then there will be an error.\n",
    "\n",
    "You can always do this data type conversion, these examples are specific to receiving user input as `int` or `float` instead of strings."
   ]
  },
  {
   "cell_type": "code",
   "execution_count": 2,
   "metadata": {},
   "outputs": [
    {
     "name": "stdout",
     "output_type": "stream",
     "text": [
      "What is your name? Mr. Avis\n",
      "How old are you? 41\n",
      "What is your favorite decimal? 42.42\n",
      "Mr. Avis is 41 years old. Your favorite decimal is 42.42\n"
     ]
    }
   ],
   "source": [
    "name = input( \"What is your name? \" )                           # store user input as a string\n",
    "age = int( input( \"How old are you? \" ) )                       # store user input as an int\n",
    "decimal = float( input( \"What is your favorite decimal? \" ) )   # store user input as a float\n",
    "\n",
    "print( name, \"is\", age, \"years old. Your favorite decimal is\", decimal )"
   ]
  }
 ],
 "metadata": {
  "kernelspec": {
   "display_name": "Python 3",
   "language": "python",
   "name": "python3"
  },
  "language_info": {
   "codemirror_mode": {
    "name": "ipython",
    "version": 3
   },
   "file_extension": ".py",
   "mimetype": "text/x-python",
   "name": "python",
   "nbconvert_exporter": "python",
   "pygments_lexer": "ipython3",
   "version": "3.7.0"
  }
 },
 "nbformat": 4,
 "nbformat_minor": 2
}
