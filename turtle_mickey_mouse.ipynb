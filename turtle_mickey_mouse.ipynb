{
 "cells": [
  {
   "cell_type": "code",
   "execution_count": 1,
   "metadata": {},
   "outputs": [],
   "source": [
    "# In order to keep the turtle from freezing and crashing Python in Canopy...\n",
    "# In the Edit menu select Preferences.\n",
    "# Select the Python tab.\n",
    "# Use the dropdown next to PyLab Backend to select the one with \"Interactive(TK)\".\n",
    "# Restart the kernel.\n",
    "\n",
    "import turtle as t # gain access to the commands for turtle graphics\n",
    "                    # \"as t\" makes \"t\" a shortcut for \"turtle\"\n",
    "\n",
    "# set the window title\n",
    "t.title(\"Mickey Mouse\")\n",
    "\n",
    "# start with a blank screen for drawing\n",
    "t.reset()\n",
    "\n",
    "# set the speed the drawings show up on the screen\n",
    "# 10 is fast\n",
    "# 6 is default\n",
    "# 1 is slowest\n",
    "# 0 is fastest (disables animation)\n",
    "t.speed(0)\n",
    "\n",
    "# hide the turtle\n",
    "t.hideturtle()\n",
    "\n",
    "# show the turtle\n",
    "t.showturtle()\n",
    "\n",
    "# change the shape of the turtle (does not affect drawing)\n",
    "# options are \"classic\" (default), \"arrow\", \"circle\", \"square\", \"triangle\", \"turtle\"\n",
    "t.shape(\"turtle\")\n",
    "\n",
    "\"\"\"\n",
    "# draw circles\n",
    "t.circle(100)   # draw a circle counterclockwise with radius 100 pixels\n",
    "t.circle(-100)  # draw a circle clockwise with radius 100 pixels\n",
    "\"\"\"\n",
    "\n",
    "# draw Mickey's head\n",
    "t.penup()        # lift up the pen so it doesn't draw while we move\n",
    "t.goto(0, -100)  # goto(x,y). Center of window is (0,0).\n",
    "t.pendown()      # put the pen down on the paper for drawing\n",
    "#t.color(\"green\") # set the pen color\n",
    "t.begin_fill()   # the next shapes will be filled in\n",
    "t.circle(100)    # draw a circle with radius 100 px\n",
    "t.end_fill()     # now the shapes will be filled in\n",
    "\n",
    "# draw the left ear\n",
    "t.penup()       # lift up the pen so it doesn't draw while we move\n",
    "t.goto(-90, 30) # goto(x,y). Center of window is (0,0).\n",
    "t.pendown()     # put the pen down on the paper for drawing\n",
    "t.begin_fill()  # the next shapes will be filled in\n",
    "t.circle(75)    # draw a circle with the specified radius\n",
    "t.end_fill()    # fill in the shapes\n",
    "\n",
    "# draw the right ear\n",
    "t.penup()       # lift up the pen so it doesn't draw while we move\n",
    "t.goto(90, 30)  # goto(x,y). Center of window is (0,0).\n",
    "t.pendown()     # put the pen down on the paper for drawing\n",
    "t.begin_fill()  # the next shapes will be filled in\n",
    "t.circle(75)    # draw a circle with the specified radius\n",
    "t.end_fill()    # fill in the shapes\n",
    "\n",
    "# draw a smile\n",
    "# a smile is an arc, which is part of a circle\n",
    "t.penup()         # lift up the pen so it doesn't draw while we move\n",
    "t.goto(-50, -50)  # goto(x,y). Center of window is (0,0).\n",
    "t.setheading(315) # change the direction the turtle is facing\n",
    "                  # 0 = right, 90 = up, 180 = left, 270 = down, 360 = right\n",
    "t.color(\"white\")  # set the pen color\n",
    "t.pensize(10)     # set the width of the pen in pixels\n",
    "t.pendown()       # put the pen down on the paper for drawing\n",
    "t.begin_fill()    # the next shapes will be filled in\n",
    "t.circle(75, 90)  # circle(radius, exent)\n",
    "                  # extent is the number of degrees of the circle to draw\n",
    "t.end_fill()      # fill in the shapes\n",
    "\n",
    "t.hideturtle()    # hide the turtle to clean up the picture"
   ]
  },
  {
   "attachments": {
    "image.png": {
     "image/png": "[encoded data removed]"
    }
   },
   "cell_type": "markdown",
   "metadata": {},
   "source": [
    "![image.png](attachment:image.png)"
   ]
  }
 ],
 "metadata": {
  "kernelspec": {
   "display_name": "Python 3",
   "language": "python",
   "name": "python3"
  },
  "language_info": {
   "codemirror_mode": {
    "name": "ipython",
    "version": 3
   },
   "file_extension": ".py",
   "mimetype": "text/x-python",
   "name": "python",
   "nbconvert_exporter": "python",
   "pygments_lexer": "ipython3",
   "version": "3.7.0"
  }
 },
 "nbformat": 4,
 "nbformat_minor": 2
}
