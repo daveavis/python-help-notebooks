{
 "cells": [
  {
   "cell_type": "markdown",
   "metadata": {},
   "source": [
    "# Introduction to Methods Using Turtle\n",
    "\n",
    "Here we introduce you to using Python methods by making a method for drawing a star, then repeatedly calling that method from the main program.  You can copy and paste this code into your IDE to see the result."
   ]
  },
  {
   "cell_type": "code",
   "execution_count": null,
   "metadata": {},
   "outputs": [],
   "source": [
    "# This is a program that will draw stars with random values\n",
    "# all over the window. The stars are drawn using a method \n",
    "# with parameters.\n",
    "\n",
    "# Program Structure Note:\n",
    "# imports come first\n",
    "# methods come next\n",
    "# main program comes last\n",
    "\n",
    "import turtle as t\n",
    "import random\n",
    "\n",
    "# method to draw a star\n",
    "def draw_star(size, num_rays, color, x, y):\n",
    "    # go to the right location\n",
    "    t.goto(x,y)\n",
    "    # set the proper color\n",
    "    if( color % 4 == 0 ):\n",
    "        t.color(\"red\")\n",
    "    if( color % 4 == 1 ):\n",
    "        t.color(\"green\")\n",
    "    if( color % 4 == 2 ):\n",
    "        t.color(\"yellow\")\n",
    "    if( color % 4 == 3 ):\n",
    "        t.color(\"blue\")\n",
    "\n",
    "    # draw the star\n",
    "    t.pendown()\n",
    "    for i in range(num_rays):     # loop num_rays number of times\n",
    "        t.left( 360 / num_rays )  # num_rays lines in our star\n",
    "        t.forward(size)\n",
    "        t.backward(size)\n",
    "    t.penup()\n",
    "    # end of the draw_star method\n",
    "\n",
    "# main program\n",
    "t.reset()  # clear the window for drawing\n",
    "t.shape(\"turtle\")\n",
    "t.penup()\n",
    "t.pensize(3)\n",
    "\n",
    "num_stars = 20\n",
    "\n",
    "for i in range(num_stars):\n",
    "    # setup star values\n",
    "    star_size = random.randrange(10,100)  # ray size from 10 to 100 px\n",
    "    star_rays = random.randrange(5,10)    # num rays from 5 through 9\n",
    "    star_color = random.randrange(4)      # there will be 4 possible color values\n",
    "    star_x = random.randrange(-300, 300)  # set the star's x location\n",
    "    star_y = random.randrange(-300, 300)  # set the star's y location\n",
    "    draw_star(star_size, star_rays, star_color, star_x, star_y)\n",
    "    # end of for loop\n",
    "\n",
    "t.hideturtle()"
   ]
  }
 ],
 "metadata": {
  "kernelspec": {
   "display_name": "Python 3",
   "language": "python",
   "name": "python3"
  },
  "language_info": {
   "codemirror_mode": {
    "name": "ipython",
    "version": 3
   },
   "file_extension": ".py",
   "mimetype": "text/x-python",
   "name": "python",
   "nbconvert_exporter": "python",
   "pygments_lexer": "ipython3",
   "version": "3.7.0"
  }
 },
 "nbformat": 4,
 "nbformat_minor": 2
}
