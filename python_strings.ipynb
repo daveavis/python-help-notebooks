{
 "cells": [
  {
   "cell_type": "markdown",
   "metadata": {},
   "source": [
    "# Strings in Python"
   ]
  },
  {
   "cell_type": "code",
   "execution_count": 2,
   "metadata": {},
   "outputs": [
    {
     "name": "stdout",
     "output_type": "stream",
     "text": [
      "Good Morning\n",
      "G\n",
      "o\n",
      "g\n",
      "g\n",
      "i\n",
      "1\n",
      "6\n",
      "-1\n",
      "5\n",
      "5\n"
     ]
    }
   ],
   "source": [
    "msg = \"Good Morning\"\n",
    "print(msg)\n",
    "print(msg[0])\n",
    "print(msg[6])\n",
    "len(msg)\n",
    "# print(msg[20]) # this will give an index out of bounds error\n",
    "print(msg[11])\n",
    "print(msg[-1])\n",
    "print(msg[-3])\n",
    "print(msg.find(\"o\"))\n",
    "print(msg.rfind(\"o\"))\n",
    "print(msg.find(\"z\"))\n",
    "print(msg.find(\"Morning\"))\n",
    "print(msg.rfind(\"Morning\"))"
   ]
  },
  {
   "cell_type": "code",
   "execution_count": 4,
   "metadata": {},
   "outputs": [
    {
     "name": "stdout",
     "output_type": "stream",
     "text": [
      "Computer Science\n",
      "ComputerScience\n",
      "Computer Science\n",
      "Science Computer\n"
     ]
    }
   ],
   "source": [
    "one = \"Computer\"\n",
    "two = \"Science\"\n",
    "print(one, two)\n",
    "three = one + two\n",
    "print(three)\n",
    "three = one + \" \" + two\n",
    "print(three)\n",
    "\n",
    "space = three.find(\" \")\n",
    "swapped = three[space+1:] + \" \" + three[:space]\n",
    "print(swapped)"
   ]
  },
  {
   "cell_type": "code",
   "execution_count": 6,
   "metadata": {},
   "outputs": [
    {
     "name": "stdout",
     "output_type": "stream",
     "text": [
      "num = 5\n",
      "num = 5\n"
     ]
    }
   ],
   "source": [
    "print(\"num =\", 5)\n",
    "#s = \"num = \" + 5 # error, cannot concatenate strings and numbers\n",
    "s = \"num = \" + str(5)\n",
    "print(s)"
   ]
  },
  {
   "cell_type": "code",
   "execution_count": 7,
   "metadata": {},
   "outputs": [
    {
     "name": "stdout",
     "output_type": "stream",
     "text": [
      "c\n",
      "o\n",
      "m\n",
      "p\n",
      "s\n",
      "c\n",
      "i\n",
      "icspmoc\n"
     ]
    }
   ],
   "source": [
    "# print the string s one letter on each line\n",
    "def vprint( s ):\n",
    "    for i in range( len(s) ):\n",
    "        print( s[i] )\n",
    "\n",
    "# return the string s reversed\n",
    "def reverse( s ):\n",
    "    rev = \"\"\n",
    "    for i in range( len(s) ):\n",
    "        rev = rev + s[-i-1]\n",
    "    return rev\n",
    "\n",
    "### main program ###\n",
    "vprint(\"compsci\")\n",
    "print( reverse(\"compsci\") )"
   ]
  }
 ],
 "metadata": {
  "kernelspec": {
   "display_name": "Python 3",
   "language": "python",
   "name": "python3"
  },
  "language_info": {
   "codemirror_mode": {
    "name": "ipython",
    "version": 3
   },
   "file_extension": ".py",
   "mimetype": "text/x-python",
   "name": "python",
   "nbconvert_exporter": "python",
   "pygments_lexer": "ipython3",
   "version": "3.7.0"
  }
 },
 "nbformat": 4,
 "nbformat_minor": 2
}
