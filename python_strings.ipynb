{
 "cells": [
  {
   "cell_type": "markdown",
   "metadata": {},
   "source": [
    "# Strings in Python\n",
    "\n",
    "Programming languages refer to text as \"strings\" since text exists in the computer as a string of characters.\n",
    "\n",
    "To define a string variable you need to enclose the text in quotes."
   ]
  },
  {
   "cell_type": "code",
   "execution_count": 17,
   "metadata": {},
   "outputs": [
    {
     "name": "stdout",
     "output_type": "stream",
     "text": [
      "Good Morning\n"
     ]
    }
   ],
   "source": [
    "msg = \"Good Morning\"  # this is a string variable\n",
    "print(msg)"
   ]
  },
  {
   "cell_type": "markdown",
   "metadata": {},
   "source": [
    "You can access each character in a string individually.  To do this you need to specify which location you are wanting to access.  Keep in mind that, as with most things in programming, locations start counting from 0."
   ]
  },
  {
   "cell_type": "code",
   "execution_count": 18,
   "metadata": {},
   "outputs": [
    {
     "name": "stdout",
     "output_type": "stream",
     "text": [
      "Good Morning\n",
      "G\n",
      "o\n"
     ]
    }
   ],
   "source": [
    "msg = \"Good Morning\"\n",
    "print(msg)\n",
    "print(msg[0])\n",
    "print(msg[6])"
   ]
  },
  {
   "cell_type": "markdown",
   "metadata": {},
   "source": [
    "Use the `len()` command to get the length of the string.  The length of the string is a count of the number of characters in the string, not the index of the last location.  `len()` returns an integer value that you can store in a variable for later use."
   ]
  },
  {
   "cell_type": "code",
   "execution_count": 19,
   "metadata": {},
   "outputs": [
    {
     "name": "stdout",
     "output_type": "stream",
     "text": [
      "12\n",
      "10\n",
      "10\n"
     ]
    }
   ],
   "source": [
    "msg = \"Good Morning\"\n",
    "print(len(msg))\n",
    "\n",
    "s = \"0123456789\"\n",
    "print(len(s))\n",
    "\n",
    "s_length = len(s)\n",
    "print(s_length)"
   ]
  },
  {
   "cell_type": "markdown",
   "metadata": {},
   "source": [
    "If you try to access a location in a string that does not exist (such as a location after the end of the string) then you will get an error."
   ]
  },
  {
   "cell_type": "code",
   "execution_count": 20,
   "metadata": {},
   "outputs": [
    {
     "ename": "IndexError",
     "evalue": "string index out of range",
     "output_type": "error",
     "traceback": [
      "\u001b[1;31m---------------------------------------------------------------------------\u001b[0m",
      "\u001b[1;31mIndexError\u001b[0m                                Traceback (most recent call last)",
      "\u001b[1;32m<ipython-input-20-a9e987f2ae34>\u001b[0m in \u001b[0;36m<module>\u001b[1;34m()\u001b[0m\n\u001b[0;32m      1\u001b[0m \u001b[0mmsg\u001b[0m \u001b[1;33m=\u001b[0m \u001b[1;34m\"Good Morning\"\u001b[0m\u001b[1;33m\u001b[0m\u001b[0m\n\u001b[1;32m----> 2\u001b[1;33m \u001b[0mprint\u001b[0m\u001b[1;33m(\u001b[0m\u001b[0mmsg\u001b[0m\u001b[1;33m[\u001b[0m\u001b[1;36m30\u001b[0m\u001b[1;33m]\u001b[0m\u001b[1;33m)\u001b[0m\u001b[1;33m\u001b[0m\u001b[0m\n\u001b[0m",
      "\u001b[1;31mIndexError\u001b[0m: string index out of range"
     ]
    }
   ],
   "source": [
    "msg = \"Good Morning\"\n",
    "print(msg[30])"
   ]
  },
  {
   "cell_type": "markdown",
   "metadata": {},
   "source": [
    "Python allows you to have negative indexes for string locations.  That means if you use a negative value for the location in the string, then you count back from the end.  The last location is -1, the second to last location is -2, and so on."
   ]
  },
  {
   "cell_type": "code",
   "execution_count": 21,
   "metadata": {},
   "outputs": [
    {
     "name": "stdout",
     "output_type": "stream",
     "text": [
      "g\n",
      "n\n"
     ]
    }
   ],
   "source": [
    "msg = \"Good Morning\"\n",
    "print(msg[-1])\n",
    "print(msg[-2])"
   ]
  },
  {
   "cell_type": "markdown",
   "metadata": {},
   "source": [
    "Python can search a string for a letter or a substring and return the location it occurs in the string.  If it is not found, then a -1 is returned.  Be careful, the -1 means it's not found, not an index of -1 (the last location).\n",
    "\n",
    "`find` will return the location of the first occurance of what you are searching for because it starts searching from the beginning of the string.\n",
    "\n",
    "`rfind` (reverse find) will return the location of the last occurrance of what you are searching for because it starts searching from the end of the string to the beginning.\n",
    "\n",
    "Both of these return an integer value that can be stored in a variable for later use."
   ]
  },
  {
   "cell_type": "code",
   "execution_count": 22,
   "metadata": {},
   "outputs": [
    {
     "name": "stdout",
     "output_type": "stream",
     "text": [
      "1\n",
      "6\n",
      "The space is at location 4\n",
      "5\n"
     ]
    }
   ],
   "source": [
    "msg = \"Good Morning\"\n",
    "print( msg.find(\"o\"))\n",
    "print( msg.rfind(\"o\"))\n",
    "\n",
    "space = msg.find(\" \")\n",
    "print(\"The space is at location\", space)\n",
    "\n",
    "print( msg.find(\"Mor\"))"
   ]
  },
  {
   "cell_type": "markdown",
   "metadata": {},
   "source": [
    "You can combine multiple strings into a single string using a process called \"concatenation\".  The `+` is used for concatenation."
   ]
  },
  {
   "cell_type": "code",
   "execution_count": 23,
   "metadata": {},
   "outputs": [
    {
     "name": "stdout",
     "output_type": "stream",
     "text": [
      "Computer Science\n",
      "ComputerScience\n",
      "Computer Science\n",
      "Science Computer\n"
     ]
    }
   ],
   "source": [
    "one = \"Computer\"\n",
    "two = \"Science\"\n",
    "print(one, two)\n",
    "three = one + two\n",
    "print(three)\n",
    "three = one + \" \" + two\n",
    "print(three)\n",
    "\n",
    "space = three.find(\" \")\n",
    "swapped = three[space+1:] + \" \" + three[:space]\n",
    "print(swapped)"
   ]
  },
  {
   "cell_type": "markdown",
   "metadata": {},
   "source": [
    "You can only concatenate strings with other strings.  You cannot concatenate strings with numbers.  If you try, you will get the error you see below."
   ]
  },
  {
   "cell_type": "code",
   "execution_count": 24,
   "metadata": {},
   "outputs": [
    {
     "name": "stdout",
     "output_type": "stream",
     "text": [
      "num = 5\n"
     ]
    },
    {
     "ename": "TypeError",
     "evalue": "can only concatenate str (not \"int\") to str",
     "output_type": "error",
     "traceback": [
      "\u001b[1;31m---------------------------------------------------------------------------\u001b[0m",
      "\u001b[1;31mTypeError\u001b[0m                                 Traceback (most recent call last)",
      "\u001b[1;32m<ipython-input-24-ebbaf5718b87>\u001b[0m in \u001b[0;36m<module>\u001b[1;34m()\u001b[0m\n\u001b[0;32m      1\u001b[0m \u001b[0mprint\u001b[0m\u001b[1;33m(\u001b[0m\u001b[1;34m\"num =\"\u001b[0m\u001b[1;33m,\u001b[0m \u001b[1;36m5\u001b[0m\u001b[1;33m)\u001b[0m  \u001b[1;31m# this works\u001b[0m\u001b[1;33m\u001b[0m\u001b[0m\n\u001b[1;32m----> 2\u001b[1;33m \u001b[0ms\u001b[0m \u001b[1;33m=\u001b[0m \u001b[1;34m\"num = \"\u001b[0m \u001b[1;33m+\u001b[0m \u001b[1;36m5\u001b[0m   \u001b[1;31m# this doesn't work\u001b[0m\u001b[1;33m\u001b[0m\u001b[0m\n\u001b[0m",
      "\u001b[1;31mTypeError\u001b[0m: can only concatenate str (not \"int\") to str"
     ]
    }
   ],
   "source": [
    "print(\"num =\", 5)  # this works\n",
    "s = \"num = \" + 5   # this doesn't work"
   ]
  },
  {
   "cell_type": "markdown",
   "metadata": {},
   "source": [
    "There are times when you will want to concatenate a string and a number.  To do this you need to tell Python to treat the number as a string (this is called \"casting\")."
   ]
  },
  {
   "cell_type": "code",
   "execution_count": 25,
   "metadata": {},
   "outputs": [
    {
     "name": "stdout",
     "output_type": "stream",
     "text": [
      "num = 5\n"
     ]
    }
   ],
   "source": [
    "s = \"num = \" + str(5)\n",
    "print(s)"
   ]
  },
  {
   "cell_type": "markdown",
   "metadata": {},
   "source": [
    "Below are some examples of using strings in methods."
   ]
  },
  {
   "cell_type": "code",
   "execution_count": 26,
   "metadata": {},
   "outputs": [
    {
     "name": "stdout",
     "output_type": "stream",
     "text": [
      "c\n",
      "o\n",
      "m\n",
      "p\n",
      "s\n",
      "c\n",
      "i\n",
      "icspmoc\n"
     ]
    }
   ],
   "source": [
    "# print the string s one letter on each line\n",
    "def vprint( s ):\n",
    "    for i in range( len(s) ):\n",
    "        print( s[i] )\n",
    "\n",
    "# return the string s reversed\n",
    "def reverse( s ):\n",
    "    rev = \"\"\n",
    "    for i in range( len(s) ):\n",
    "        rev = rev + s[-i-1]\n",
    "    return rev\n",
    "\n",
    "### main program ###\n",
    "vprint(\"compsci\")\n",
    "print( reverse(\"compsci\") )"
   ]
  },
  {
   "cell_type": "code",
   "execution_count": null,
   "metadata": {},
   "outputs": [],
   "source": []
  }
 ],
 "metadata": {
  "kernelspec": {
   "display_name": "Python 3",
   "language": "python",
   "name": "python3"
  },
  "language_info": {
   "codemirror_mode": {
    "name": "ipython",
    "version": 3
   },
   "file_extension": ".py",
   "mimetype": "text/x-python",
   "name": "python",
   "nbconvert_exporter": "python",
   "pygments_lexer": "ipython3",
   "version": "3.7.0"
  }
 },
 "nbformat": 4,
 "nbformat_minor": 2
}
