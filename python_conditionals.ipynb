{
 "cells": [
  {
   "cell_type": "markdown",
   "metadata": {},
   "source": [
    "# Python Conditionals"
   ]
  },
  {
   "cell_type": "markdown",
   "metadata": {},
   "source": [
    "## Boolean Conditionals\n",
    "\n",
    "A boolean value is always either `True` or `False`.  You cannot assign any other value to a boolean variable."
   ]
  },
  {
   "cell_type": "code",
   "execution_count": 14,
   "metadata": {},
   "outputs": [],
   "source": [
    "gameOver = False\n",
    "isOdd = True"
   ]
  },
  {
   "cell_type": "markdown",
   "metadata": {},
   "source": [
    "## Relational Operators\n",
    "\n",
    "Relational operators compare two variables and report a value of `True` or `False`.  You must compare values of the same type.  For example, you cannot compare a number and a string.\n",
    "\n",
    "|Operator|Use|\n",
    "|------|:--|\n",
    "|`a == b`|`True` if a and b are equal|\n",
    "|`a != b`|`True` if a and b are not equal|\n",
    "|`a > b`|`True` if a is greater than b|\n",
    "|`a < b`|`True` if a is less than b|\n",
    "|`a >= b`|`True` if a is greater than or equal to b|\n",
    "|`a <= b`|`True` if a is less than or equal to b|\n"
   ]
  },
  {
   "cell_type": "code",
   "execution_count": 15,
   "metadata": {},
   "outputs": [
    {
     "name": "stdout",
     "output_type": "stream",
     "text": [
      "False\n",
      "True\n",
      "False\n",
      "True\n",
      "False\n",
      "True\n"
     ]
    }
   ],
   "source": [
    "a = 5\n",
    "b = 7\n",
    "c = 10\n",
    "\n",
    "print( a == b )  # are a and b equal?\n",
    "print( a != b )  # are a and b not equal?\n",
    "print( a > b )   # is a greater than b?\n",
    "print( a < b )   # is a less than b?\n",
    "print( a >= b )  # is a greater than or equal to b?\n",
    "print( a <= b )  # is a less than or equal to b?"
   ]
  },
  {
   "cell_type": "markdown",
   "metadata": {},
   "source": [
    "## Logical Operators\n",
    "\n",
    "Logical operators allow you to check multiple comparisons at the same time.  For example, if I am hungry and it is dinnertime, then eat.  Without the logical operators you could only do one check at a time.\n",
    "\n",
    "|Operator|Use|\n",
    "|--------|:---|\n",
    "|`a or b`|`True` if a is `True`, if b is `True`, or if both are `True`.  `False` if both are `False`. |\n",
    "|`a and b`|`True` if a is `True` and b is `True`.  `False` if either is `False`.|\n",
    "|`not a`|`True` if a is `False`. `False` if a is `True`|\n",
    "\n",
    "Note:\n",
    "For `or` if the first condition is true, then the whole thing must be true so the second condition is not checked.  For `and` if the first condition is false, then the whole thing must be false so the second condition is not checked.  This is called \"short circuit evaluation\"."
   ]
  },
  {
   "cell_type": "code",
   "execution_count": 16,
   "metadata": {},
   "outputs": [
    {
     "name": "stdout",
     "output_type": "stream",
     "text": [
      "True\n",
      "False\n",
      "False\n",
      "False\n",
      "\n",
      "True\n",
      "True\n",
      "True\n",
      "False\n",
      "\n",
      "False\n",
      "True\n",
      "False\n",
      "True\n",
      "\n",
      "False\n",
      "True\n"
     ]
    }
   ],
   "source": [
    "a = 5\n",
    "b = 7\n",
    "c = 10\n",
    "\n",
    "print( (a < b ) and (b < c) )   # True and True == True\n",
    "print( (a < b ) and (b > c) )   # True and False == False\n",
    "print( (a > b ) and (b < c) )   # False and ___ == False (see: short circuit evalutation)\n",
    "print( (a > b ) and (b > c) )   # False and ____ == False (see: short circuit evalutation)\n",
    "print()\n",
    "\n",
    "print( (a < b ) or (b < c) )    # True or ___ == True (see: short circuit evalutation)\n",
    "print( (a < b ) or (b > c) )    # True or _____ == True (see: short circuit evalutation)\n",
    "print( (a > b ) or (b < c) )    # False or True == True\n",
    "print( (a > b ) or (b > c) )    # False or False == False\n",
    "print()\n",
    "\n",
    "print( not True )               # not True == False\n",
    "print( not False )              # not False == True\n",
    "print( not (a < b) )            # not True == False\n",
    "print( not (a > b) )            # not False == True\n",
    "print()\n",
    "\n",
    "# You cannot distribute the not like it was an algebraic equation.\n",
    "# The next two expressions are not the same.\n",
    "print( not ( (a < b) or (c < b) ) )   # not (True or False) == False\n",
    "print( ( not (a < b) or not (c < b) ) )  # (not True) or (not False) == False or True == True"
   ]
  },
  {
   "cell_type": "markdown",
   "metadata": {},
   "source": [
    "## if statements\n",
    "\n",
    "A program would be very limited if it could not make decisions based on the value of inputs or resuts.  `if` statements allow a program to check a value and perform different actions based on the result of the check.\n",
    "\n",
    "The format is:\n",
    "```\n",
    "if( boolean_condition ):\n",
    "    do_stuff\n",
    "    do_more_stuff\n",
    "```\n",
    "The `boolean_condition` must be a condition (like those shown above) that evaluates to either `True` or `False`.  This line is followed by one or more (not zero) indented lines of code that make up the **if block**.  in this case the **if block** consists of the two lines `do_stuff` and `do_more_stuff`.\n",
    "\n",
    "If the `boolean_condition` evaluates to `True` then the **if block** will be executed.  If the `boolean_condition` evaluates to `False` then the **if block** will be skipped and will not execute.\n",
    "\n",
    "Note that the `boolean_condition` may be a simple condition like those in the **Relational Operators** section above, or it may be a compound conditions like those in the **Logical Operators** section above."
   ]
  },
  {
   "cell_type": "code",
   "execution_count": 17,
   "metadata": {},
   "outputs": [
    {
     "name": "stdout",
     "output_type": "stream",
     "text": [
      "Your grade of 85 is a B!\n"
     ]
    }
   ],
   "source": [
    "grade = 85\n",
    "if( grade >= 90 ):\n",
    "    print( \"Your grade of\", grade, \"is an A!\" )\n",
    "if( grade < 90 and grade >= 80 ):\n",
    "    print( \"Your grade of\", grade, \"is a B!\" )\n",
    "if( grade < 80 and grade >= 75 ):\n",
    "    print( \"Your grade of\", grade, \"is a C.\" )\n",
    "if( grade < 75 and grade >= 70 ):\n",
    "    print( \"Your grade of\", grade, \"is a D.\" )\n",
    "if( grade < 70 ):\n",
    "    print( \"Your grade of\", grade, \"is an F.\" )"
   ]
  },
  {
   "cell_type": "markdown",
   "metadata": {},
   "source": [
    "## if-else statements\n",
    "\n",
    "There are times that you want your program to do one thing if a condition is true, and do another thing if it is not true.  That's where the `else` operator comes into play.  The structure of an `if-else` block looks like this.\n",
    "\n",
    "```\n",
    "if( boolean_condition ):\n",
    "    if-block-of-statements\n",
    "else:\n",
    "    else-block-of-statements\n",
    "```\n",
    "\n",
    "Just like with an if statement, the `if-block-of-statements` and the `else-block-of-statements` consists of one or more (not zero) python statements.  If the `boolean-condition` is `True` then the `if-block-of-statements` is executed and the `else-block-of-statements` is skipped.  If the `boolean-condition` is `False` then the `if-block-of-statments` is skipped and the `else-block-of-statements` is executed."
   ]
  },
  {
   "cell_type": "code",
   "execution_count": 18,
   "metadata": {},
   "outputs": [
    {
     "name": "stdout",
     "output_type": "stream",
     "text": [
      "35 is not greater than 50.\n",
      "\n",
      "It's cold, wear a coat!\n"
     ]
    }
   ],
   "source": [
    "num = 35\n",
    "if( num > 50 ):\n",
    "    print( num, \"is greater than 50.\" )\n",
    "else:\n",
    "    print( num, \"is not greater than 50.\" )\n",
    "\n",
    "print()\n",
    "\n",
    "cold = True\n",
    "if( cold == True ):   # could also say   if( cold ):   since cold evaluates to True or False.\n",
    "    print( \"It\\'s cold, wear a coat!\" )\n",
    "else:\n",
    "    print( \"Not cold today!\" )"
   ]
  },
  {
   "cell_type": "markdown",
   "metadata": {},
   "source": [
    "## if-elif-else statements\n",
    "\n",
    "Sometimes you want to have your program make different decisions for a number of conditions, not just a single True/False condition.  For this you have the `elif` statement.  `elif` is short for `else if`.  The structure of an if-elif-else statement looks like this:\n",
    "\n",
    "```\n",
    "if( boolean_condition ):\n",
    "    if-block-of-statements\n",
    "elif ( another_boolean_condition ):\n",
    "    elif-block-of-statements\n",
    "else:\n",
    "    else-block-of-statements\n",
    "```\n",
    "\n",
    "You may have more than one `elif` statement, each with their own boolean conditions to be tested and their own block of statements to be executed.  The `if` statements always comes first.  The `else` statement always comes last.  All `elif` statments should be between them.\n",
    "\n",
    "Just like with an if statement, the `elif-block-of-statements` consists of one or more (not zero) python statements.  If the `boolean-condition` is `True` then the `if-block-of-statements` is executed and the `elif-block-of-statements` and the `else-block-of-statements` are skipped.  If the `boolean-condition` is `False` then the `if-block-of-statments` is skipped and the `elif` `another_boolean_condition` is evaluated.  If the `another_boolean_condition` is `True` then the `elif-block-of-statements` is executed and the `else-block-of-statements` is skipped.  If the `another_boolean_condition` is `False` then the `elif-block-of-statements` is skipped and the next `elif` is evaluated.  If there are no more `elif` statements then the `else-block-of-statements` is executed."
   ]
  },
  {
   "cell_type": "code",
   "execution_count": 19,
   "metadata": {},
   "outputs": [
    {
     "name": "stdout",
     "output_type": "stream",
     "text": [
      "a is less than b\n",
      "\n",
      "a equals b\n"
     ]
    }
   ],
   "source": [
    "a = 5\n",
    "b = 10\n",
    "if( a == b ):\n",
    "    print( \"a equals b\" )\n",
    "elif( a < b ):\n",
    "    print( \"a is less than b\" )\n",
    "elif( a > b ):\n",
    "    print( \"a is greater than b\" )\n",
    "else:\n",
    "    print( \"Something went wrong.\" )\n",
    "\n",
    "print()\n",
    "    \n",
    "a = 10\n",
    "b = 10\n",
    "if( a == b ):\n",
    "    print( \"a equals b\" )\n",
    "elif( b == a ):\n",
    "    print( \"b equals a\" )   # notice that once a condition is triggered all the other conditions are skipped.\n",
    "else:\n",
    "    print( \"Ummmm, something went wrong.\" )"
   ]
  },
  {
   "cell_type": "markdown",
   "metadata": {},
   "source": [
    "## Algorithms\n",
    "\n",
    "Here are some examples of some common algorithms that use boolean conditions and if statements."
   ]
  },
  {
   "cell_type": "code",
   "execution_count": 20,
   "metadata": {},
   "outputs": [
    {
     "name": "stdout",
     "output_type": "stream",
     "text": [
      "35 is not a multiple of 10.\n",
      "\n",
      "100 is a multiple of 10.\n"
     ]
    }
   ],
   "source": [
    "# Is num a multiple of 10?\n",
    "\n",
    "# Think: what number could we use instead of 10 to determine if a number is even or odd?\n",
    "# Refer to the use of modulus (%) on the Python Basics page.\n",
    "num = 35\n",
    "if( num % 10 == 0 ):\n",
    "    print( num, \"is a multiple of 10.\" )\n",
    "else:\n",
    "    print( num, \"is not a multiple of 10.\" )\n",
    "    \n",
    "print()\n",
    "\n",
    "num = 100\n",
    "if( num % 10 == 0 ):\n",
    "    print( num, \"is a multiple of 10.\" )\n",
    "else:\n",
    "    print( num, \"is not a multiple of 10.\" )"
   ]
  }
 ],
 "metadata": {
  "kernelspec": {
   "display_name": "Python 3",
   "language": "python",
   "name": "python3"
  },
  "language_info": {
   "codemirror_mode": {
    "name": "ipython",
    "version": 3
   },
   "file_extension": ".py",
   "mimetype": "text/x-python",
   "name": "python",
   "nbconvert_exporter": "python",
   "pygments_lexer": "ipython3",
   "version": "3.7.0"
  }
 },
 "nbformat": 4,
 "nbformat_minor": 2
}
